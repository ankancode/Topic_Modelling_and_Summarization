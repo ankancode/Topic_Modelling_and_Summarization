{
 "cells": [
  {
   "cell_type": "code",
   "execution_count": 2,
   "metadata": {},
   "outputs": [],
   "source": [
    "import pandas as pd\n",
    "import nltk\n",
    "from sklearn.decomposition import NMF, LatentDirichletAllocation\n",
    "import numpy as np\n",
    "from wordcloud import WordCloud, STOPWORDS\n",
    "import matplotlib.pyplot as plt"
   ]
  },
  {
   "cell_type": "code",
   "execution_count": 3,
   "metadata": {},
   "outputs": [],
   "source": [
    "with open(\"data.txt\") as f_in:\n",
    "    lines = [line.rstrip() for line in f_in] \n",
    "    lines = [line for line in lines if line] "
   ]
  },
  {
   "cell_type": "code",
   "execution_count": 4,
   "metadata": {},
   "outputs": [],
   "source": [
    "lemm =nltk.stem.WordNetLemmatizer()\n",
    "from sklearn.feature_extraction.text import CountVectorizer\n",
    "class LemmaCountVectorizer(CountVectorizer):\n",
    "    def build_analyzer(self):\n",
    "        analyzer = super(LemmaCountVectorizer, self).build_analyzer()\n",
    "        return lambda doc: (lemm.lemmatize(w) for w in analyzer(doc))"
   ]
  },
  {
   "cell_type": "code",
   "execution_count": 5,
   "metadata": {},
   "outputs": [],
   "source": [
    "text = lines\n",
    "tf_vectorizer = LemmaCountVectorizer(max_df=0.95,\n",
    "                                    min_df=2,\n",
    "                                    stop_words='english',\n",
    "                                    decode_error='ignore')\n",
    "tf = tf_vectorizer.fit_transform(text)"
   ]
  },
  {
   "cell_type": "code",
   "execution_count": 8,
   "metadata": {},
   "outputs": [],
   "source": [
    "lda = LatentDirichletAllocation(n_components=2, max_iter=100,\n",
    "                                learning_method = 'online',\n",
    "                                learning_offset = 50.,\n",
    "                                random_state = 0)"
   ]
  },
  {
   "cell_type": "code",
   "execution_count": 9,
   "metadata": {},
   "outputs": [
    {
     "data": {
      "text/plain": [
       "LatentDirichletAllocation(batch_size=128, doc_topic_prior=None,\n",
       "             evaluate_every=-1, learning_decay=0.7,\n",
       "             learning_method='online', learning_offset=50.0,\n",
       "             max_doc_update_iter=100, max_iter=100, mean_change_tol=0.001,\n",
       "             n_components=2, n_jobs=1, n_topics=None, perp_tol=0.1,\n",
       "             random_state=0, topic_word_prior=None,\n",
       "             total_samples=1000000.0, verbose=0)"
      ]
     },
     "execution_count": 9,
     "metadata": {},
     "output_type": "execute_result"
    }
   ],
   "source": [
    "lda.fit(tf)"
   ]
  },
  {
   "cell_type": "code",
   "execution_count": 10,
   "metadata": {},
   "outputs": [],
   "source": [
    "tf_feature_names = tf_vectorizer.get_feature_names()"
   ]
  },
  {
   "cell_type": "code",
   "execution_count": 8,
   "metadata": {},
   "outputs": [],
   "source": [
    "from sklearn.feature_extraction.text import TfidfVectorizer\n",
    "\n",
    "class LemmaTfidfVectorizer(TfidfVectorizer):\n",
    "    def build_analyzer(self):\n",
    "        analyzer = super(LemmaTfidfVectorizer, self).build_analyzer()\n",
    "        return lambda doc: (lemm.lemmatize(w) for w in analyzer(doc))\n",
    "\n",
    "tfidf_vectorizer =LemmaTfidfVectorizer(max_df=0.95, min_df=2, stop_words='english',decode_error='ignore' )\n",
    "tfidf = tfidf_vectorizer.fit_transform(text)"
   ]
  },
  {
   "cell_type": "code",
   "execution_count": 9,
   "metadata": {},
   "outputs": [],
   "source": [
    "nmf = NMF(n_components=2,  max_iter=100, random_state=1, alpha=.1, l1_ratio=.5, init='nndsvd')"
   ]
  },
  {
   "cell_type": "code",
   "execution_count": 10,
   "metadata": {},
   "outputs": [
    {
     "data": {
      "text/plain": [
       "NMF(alpha=0.1, beta_loss='frobenius', init='nndsvd', l1_ratio=0.5,\n",
       "  max_iter=100, n_components=2, random_state=1, shuffle=False, solver='cd',\n",
       "  tol=0.0001, verbose=0)"
      ]
     },
     "execution_count": 10,
     "metadata": {},
     "output_type": "execute_result"
    }
   ],
   "source": [
    "nmf.fit(tfidf)"
   ]
  },
  {
   "cell_type": "code",
   "execution_count": 11,
   "metadata": {},
   "outputs": [],
   "source": [
    "tfidf_feature_names = tfidf_vectorizer.get_feature_names()"
   ]
  },
  {
   "cell_type": "code",
   "execution_count": 12,
   "metadata": {},
   "outputs": [],
   "source": [
    "## Method for Extraction of Words and Topics ##\n",
    "\n",
    "def extract_words_topics(H, W, feature_names, documents, no_top_words, no_top_documents):\n",
    "    topic_1_top_40_words = []\n",
    "    topic_2_top_40_words = []\n",
    "    \n",
    "    for topic_idx, topic in enumerate(H):\n",
    "        count = 0\n",
    "        if topic_idx==0:\n",
    "            topic_1_top_40_words = ([feature_names[i]\n",
    "                        for i in topic.argsort()[:-no_top_words - 1:-1]])\n",
    "            top_doc_indices_topic_1 = np.argsort( W[:,topic_idx] )[::-1][0:]  \n",
    "        else:\n",
    "            topic_2_top_40_words = ([feature_names[i]\n",
    "                        for i in topic.argsort()[:-no_top_words - 1:-1]])\n",
    "            top_doc_indices_topic_2 = np.argsort( W[:,topic_idx] )[::-1][0:]\n",
    "            \n",
    "    return top_doc_indices_topic_1,top_doc_indices_topic_2, topic_1_top_40_words, topic_2_top_40_words"
   ]
  },
  {
   "cell_type": "code",
   "execution_count": 13,
   "metadata": {},
   "outputs": [],
   "source": [
    "lda_H = lda.components_\n",
    "lda_W = lda.transform(tf)"
   ]
  },
  {
   "cell_type": "code",
   "execution_count": 14,
   "metadata": {},
   "outputs": [],
   "source": [
    "## Extraction of Words and Topics (LDA) ##\n",
    "\n",
    "_,_,lda_topic_1_top_40_words, lda_topic_2_top_40_words = extract_words_topics(lda_H, lda_W, tf_feature_names, text, 40, 3)"
   ]
  },
  {
   "cell_type": "code",
   "execution_count": 15,
   "metadata": {},
   "outputs": [
    {
     "name": "stdout",
     "output_type": "stream",
     "text": [
      "----------------------------------------\n",
      "LDA Top 40 words of Topic 1\n",
      "----------------------------------------\n",
      "\n",
      "['scotland', 'england', 'game', 'world', 'thiem', 'year', 'judge', 'set', 'work', 'long', 'ahead', 'shot', 'second', 'good', 'bairstow', 'morgan', 'test', 'case', 'certain', 'recommended', 'match', 'series', 'sent', 'took', 'sharif', 'say', 'run', 'bharati', 'appointment', 'lost', 'century', 'cup', 'number', 'cricket', 'seventh', 'decision', 'went', 'non', 'nation', 'court']\n",
      "\n"
     ]
    },
    {
     "data": {
      "image/png": "[encoded data removed]",
      "text/plain": [
       "<matplotlib.figure.Figure at 0x7f4b4b3abe80>"
      ]
     },
     "metadata": {},
     "output_type": "display_data"
    }
   ],
   "source": [
    "## Word Cloud (LDA) ##\n",
    "\n",
    "print(\"-\"*40)\n",
    "print(\"LDA Top 40 words of Topic 1\")\n",
    "print(\"-\"*40)\n",
    "print()\n",
    "print(lda_topic_1_top_40_words)\n",
    "print()\n",
    "lda_topic_1_top_words = WordCloud(\n",
    "                          stopwords=STOPWORDS,\n",
    "                          background_color='black',\n",
    "                          width=2500,\n",
    "                          height=1800\n",
    "                         ).generate(\" \".join(lda_topic_1_top_40_words))\n",
    "plt.imshow(lda_topic_1_top_words)\n",
    "plt.axis('off')\n",
    "plt.show()"
   ]
  },
  {
   "cell_type": "code",
   "execution_count": 16,
   "metadata": {},
   "outputs": [
    {
     "name": "stdout",
     "output_type": "stream",
     "text": [
      "----------------------------------------\n",
      "LDA Top 40 words of Topic 2\n",
      "----------------------------------------\n",
      "\n",
      "['minister', 'chief', 'congress', 'said', 'bjp', 'justice', 'set', 'thiem', 'party', 'new', 'playing', 'election', 'nadal', 'portfolio', 'kumaraswamy', 'court', 'play', 'important', 'game', 'issue', 'best', 'mukherjee', 'year', 'record', '2019', 'cup', 'davis', 'able', 'long', 'olympics', 'people', 'education', 'team', 'recommended', 'asian', 'won', 'win', 'format', 'lok', 'country']\n",
      "\n"
     ]
    },
    {
     "data": {
      "image/png": "[encoded data removed]",
      "text/plain": [
       "<matplotlib.figure.Figure at 0x7f4b4934f9b0>"
      ]
     },
     "metadata": {},
     "output_type": "display_data"
    }
   ],
   "source": [
    "## Word Cloud (LDA) ##\n",
    "\n",
    "print(\"-\"*40)\n",
    "print(\"LDA Top 40 words of Topic 2\")\n",
    "print(\"-\"*40)\n",
    "print()\n",
    "print(lda_topic_2_top_40_words)\n",
    "print()\n",
    "lda_topic_2_top_words = WordCloud(\n",
    "                          stopwords=STOPWORDS,\n",
    "                          background_color='black',\n",
    "                          width=2500,\n",
    "                          height=1800\n",
    "                         ).generate(\" \".join(lda_topic_2_top_40_words))\n",
    "plt.imshow(lda_topic_2_top_words)\n",
    "plt.axis('off')\n",
    "plt.show()"
   ]
  },
  {
   "cell_type": "code",
   "execution_count": 17,
   "metadata": {},
   "outputs": [],
   "source": [
    "nmf_H = nmf.components_\n",
    "nmf_W = nmf.transform(tfidf)"
   ]
  },
  {
   "cell_type": "code",
   "execution_count": 18,
   "metadata": {},
   "outputs": [],
   "source": [
    "## Extraction of Words and Topics (NMF) ##\n",
    "\n",
    "top_doc_indices_topic_1, top_doc_indices_topic_2, nmf_topic_1_top_40_words, nmf_topic_2_top_40_words = extract_words_topics(nmf_H, nmf_W, tfidf_feature_names, text, 40, 3)"
   ]
  },
  {
   "cell_type": "code",
   "execution_count": 19,
   "metadata": {},
   "outputs": [
    {
     "name": "stdout",
     "output_type": "stream",
     "text": [
      "----------------------------------------\n",
      "NMF Top 40 words of Topic 1\n",
      "----------------------------------------\n",
      "\n",
      "['minister', 'congress', 'bjp', 'chief', 'party', 'portfolio', 'said', 'kumaraswamy', 'jd', 'including', 'assembly', 'key', 'leader', 'devegowda', 'education', 'people', 'support', 'development', 'election', 'state', 'recommended', 'higher', 'certain', 'finance', 'justice', 'question', 'department', 'public', 'meant', 'issue', 'especially', 'constituency', 'maurya', 'bsp', 'mukherjee', 'new', 'court', 'home', 'till', 'case']\n",
      "\n"
     ]
    },
    {
     "data": {
      "image/png": "[encoded data removed]",
      "text/plain": [
       "<matplotlib.figure.Figure at 0x7f4b492e37b8>"
      ]
     },
     "metadata": {},
     "output_type": "display_data"
    }
   ],
   "source": [
    "## Word Cloud (NMF) ##\n",
    "\n",
    "print(\"-\"*40)\n",
    "print(\"NMF Top 40 words of Topic 1\")\n",
    "print(\"-\"*40)\n",
    "print()\n",
    "print(nmf_topic_1_top_40_words)\n",
    "print()\n",
    "nmf_topic_1_top_words = WordCloud(\n",
    "                          stopwords=STOPWORDS,\n",
    "                          background_color='black',\n",
    "                          width=2500,\n",
    "                          height=1800\n",
    "                         ).generate(\" \".join(nmf_topic_1_top_40_words))\n",
    "plt.imshow(nmf_topic_1_top_words)\n",
    "plt.axis('off')\n",
    "plt.show()"
   ]
  },
  {
   "cell_type": "code",
   "execution_count": 20,
   "metadata": {},
   "outputs": [
    {
     "name": "stdout",
     "output_type": "stream",
     "text": [
      "----------------------------------------\n",
      "NMF Top 40 words of Topic 2\n",
      "----------------------------------------\n",
      "\n",
      "['scotland', 'test', 'non', 'nation', 'england', 'fellow', 'year', 'cricket', 'cup', 'international', 'morgan', 'level', 'world', 'hope', 'decision', 'happened', 'saw', 'team', 'final', 'play', 'match', 'win', 'long', 'run', 'successive', 'century', 'came', 'batsman', 'lost', 'won', 'stand', 'best', 'ball', 'bairstow', 'home', 'today', 'thought', 'sharif', 'played', 'odi']\n",
      "\n"
     ]
    },
    {
     "data": {
      "image/png": "[encoded data removed]",
      "text/plain": [
       "<matplotlib.figure.Figure at 0x7f4b49216828>"
      ]
     },
     "metadata": {},
     "output_type": "display_data"
    }
   ],
   "source": [
    "## Word Cloud (NMF) ##\n",
    "print(\"-\"*40)\n",
    "print(\"NMF Top 40 words of Topic 2\")\n",
    "print(\"-\"*40)\n",
    "print()\n",
    "print(nmf_topic_2_top_40_words)\n",
    "print()\n",
    "nmf_topic_2_top_words = WordCloud(\n",
    "                          stopwords=STOPWORDS,\n",
    "                          background_color='black',\n",
    "                          width=2500,\n",
    "                          height=1800\n",
    "                         ).generate(\" \".join(nmf_topic_2_top_40_words))\n",
    "plt.imshow(nmf_topic_2_top_words)\n",
    "plt.axis('off')\n",
    "plt.show()"
   ]
  },
  {
   "cell_type": "code",
   "execution_count": 21,
   "metadata": {},
   "outputs": [],
   "source": [
    "########################################\n",
    "# Postprocessing on NMF Document Score #\n",
    "########################################\n",
    "\n",
    "top_doc_indices_topic_1 = top_doc_indices_topic_1.tolist()\n",
    "top_doc_indices_topic_2 = top_doc_indices_topic_2.tolist()\n",
    "l = len(top_doc_indices_topic_1)\n",
    "\n",
    "count = 0\n",
    "\n",
    "for i in top_doc_indices_topic_1:\n",
    "    top_doc_indices_topic_1_end_val = top_doc_indices_topic_1[l-1-count]\n",
    "    \n",
    "    if top_doc_indices_topic_2.index(i) >= top_doc_indices_topic_1.index(i):\n",
    "        del top_doc_indices_topic_2[top_doc_indices_topic_2.index(i)]\n",
    "    \n",
    "    if top_doc_indices_topic_1.index(top_doc_indices_topic_1_end_val)>= top_doc_indices_topic_2.index(top_doc_indices_topic_1_end_val):\n",
    "        del top_doc_indices_topic_1[top_doc_indices_topic_1.index(top_doc_indices_topic_1_end_val)]\n",
    "    count += 1\n",
    "    "
   ]
  },
  {
   "cell_type": "code",
   "execution_count": 22,
   "metadata": {},
   "outputs": [
    {
     "name": "stdout",
     "output_type": "stream",
     "text": [
      "--------------------------------------------------------------------------------\n",
      "Number of documents related to Topic 1 (After Postprocessing on NMF Document Score)\n",
      "--------------------------------------------------------------------------------\n",
      "27\n",
      "\n",
      "--------------------------------------------------------------------------------\n",
      "Number of documents related to Topic 2 (After Postprocessing on NMF Document Score)\n",
      "--------------------------------------------------------------------------------\n",
      "31\n"
     ]
    }
   ],
   "source": [
    "print(\"-\"*80)\n",
    "print(\"Number of documents related to Topic 1 (After Postprocessing on NMF Document Score)\")\n",
    "print(\"-\"*80)\n",
    "print(len(top_doc_indices_topic_1))\n",
    "print()\n",
    "print(\"-\"*80)\n",
    "print(\"Number of documents related to Topic 2 (After Postprocessing on NMF Document Score)\")\n",
    "print(\"-\"*80)\n",
    "print(len(top_doc_indices_topic_2))"
   ]
  },
  {
   "cell_type": "code",
   "execution_count": 23,
   "metadata": {},
   "outputs": [],
   "source": [
    "nmf_topic_1_sentences = []\n",
    "nmf_topic_2_sentences = []\n",
    "for doc_index in top_doc_indices_topic_1:\n",
    "    nmf_topic_1_sentences.append(text[doc_index])\n",
    "for doc_index in top_doc_indices_topic_2:\n",
    "    nmf_topic_2_sentences.append(text[doc_index])"
   ]
  },
  {
   "cell_type": "code",
   "execution_count": 24,
   "metadata": {},
   "outputs": [
    {
     "name": "stdout",
     "output_type": "stream",
     "text": [
      "----------------------------------------\n",
      "All articles related to Topic 1 (using NMF)\n",
      "----------------------------------------\n",
      "The JD(S) leader became the chief minister after the Congress offered support to the party keep out the BJP. In the 225-member Assembly, including one nominated, the Congress has 78 MLAs, the JDS has 36 and the BJP 104, with three others.\n",
      "\n",
      "Kumaraswamy retained the key Finance department, as also Energy with him while giving Home to his deputy G Parameshwara of the Congress. The chief minister had inducted 25 new ministers on June 6, including those from his party JD(S), Congress, BSP, and the fledgling KPJP.\n",
      "\n",
      "Bengaluru: \"What have I studied? I'm working as the chief minister\" - this was Karnataka Chief Minister H D Kumaraswamy response as he dismissed questions on allocating Higher Education portfolio to a minister who has studied till class 8.\n",
      "\n",
      "G T Devegowda, who emerged as a giant killer defeating former chief minister Siddaramaiah in Chamundeshwari constituency in Mysuru in the May 12 assembly polls, was said to be eyeing key portfolios, according to party sources.\n",
      "\n",
      "Earlier, the chief minister had drawn flak for saying he was at the \"mercy\" of the Congress and not the people. Kumaraswamy later said he never meant to show disrespect to the people of the state.\"What I meant was so long as they (Congress) support me I can continue. So, whatever programmes we have to pursue, I will be at the mercy of Congress.\"\n",
      "\n",
      "Hitting out at the BJP, Patel said, \"The state's BJP government has not been able to fulfil the expectations of the people, especially the youth and farmers. If the BJP thinks that I am an agent of Congress by raising issues of public interest, then yes, I am an agent of the Congress. \"\n",
      "\n",
      "\"Development is the identity of the BJP and Prime Minister Narendra Modi has been made his presence felt across the globe due to development,\" he said. Maurya also advised his cabinet colleague Omprakash Rajbhar, the leader of BJP ally Suheldev Bharatiya Samaj Party, to take up issues with the saffron party leadership instead of taking grievances to public forums.\n",
      "\n",
      "Justice Bachu Jagannadha Das made it to the Supreme Court because of his strong Congress Party connections.  He had fought an election and served in the Madras Corporation.  His case was strongly recommended by Dr Rajendra Prasad, Shri VV Giri, who was then India’s High Commissioner in Colombo and the Orissa chief minister Shri HK Mahtab, who in writing recommended that “My friend Jagannadha Das be recognised for his seniority and be appointed to the Court”.  Such political recommendations are today unthinkable.\n",
      "\n",
      "Kumaraswamy, who holds a BSc degree, was asked on Saturday about JD(S) minister G T Devegowda reportedly being upset at being given the higher education portfolio, especially as his own formal education has been limited.\n",
      "\n",
      "\"By the time, the Lok Sabha election are round the corner, the electoral understanding will break,\" the state Labour and Employment minister said. Replying to a question, Maurya said the BJP contests elections on the development plank and does not bank on caste and religion.\n",
      "\n",
      "Kumaraswamy had last night allocated portfolios but it has left some upset including G T Devegowda and C S Puttaraju, who got the Minor Irrigation portfolio.\n",
      "\n",
      "An editorial in Sena mouthpiece Saamana speculated that Pranab could emerge as a “consensus candidate” in case the BJP fails to get majority in the 2019 Lok Sabha elections. “… the political corridor in Delhi is abuzz with the possibility of Mukherjee being a consensus candidate for the PM’s post after elections. If BJP failed to garner majority in the Lok Sabha, Mukherjee could be a consensus candidate,” it said.\n",
      "\n",
      "\"Should I give Finance?\"....there will be demand for certain ministries, but certain decisions are made internally in the party,\" he told reporters here, adding that such wishes of becoming a minister first and then\n",
      "\n",
      "Chief Justice Hidayatullah recommended the names of Justice SP Kotwal, the Chief Justice of Bombay; Justice MS Menon, Chief Justice of Kerala to the Supreme Court.  The executive did not respond to either of the two names and ignored the recommendations. The Chief Justice meekly submitted and never questioned the inaction.\n",
      "\n",
      "To change the arithmetic, the future judges had to follow the social and political philosophy of the government. “Never before could any of the Judges who were to be seen to have a primary political sponsor, it had to be accepted that the appointments were initiated by the Chief Justice to the law minister.  Law minister HR Gokhale initiated the appointment of his Bombay High Court colleagues DG Palekar, YV Chandrachud, Sidhartha Shankar Ray recommended Subimal Chandra Ray and AK Mukherjee; Mohan Kumaramangalam recommended KK Mathew,  C Subramaniam recommended his classmate Alagiriswamy and Indira Gandhi herself recommended Mirza Hameedullah Beg and Surendra Narayan Dwivedi from family’s hometown, Allahabad.” The author cites in support the views of Judges P Jaganmohan Reddy and AN Grover, the then sitting judges.  This was a pre-preparation for changing the numbers equation in the Kesavanand Bharati case which had to sit in review of the Golaknath case.  Needless to say that many of the above who were on the bench were part of the pro-Government minority opinion in the Kesavananda Bharati case\n",
      "\n",
      "New Delhi/Mumbai: Congress leader Sharmistha Mukherjee on Sunday ruled out her father and former president Pranab Mukherjee’s return to active politics after the Shiv Sena suggested that the RSS might be planning to prop him up as a potential prime ministerial face in 2019.\n",
      "\n",
      "wanting certain specific portfolios are common.\n",
      "\n",
      "Reacting to the issue, Kumaraswamy, 59, said, \"Some people will have wish to work in certain departments, but in every department there is opportunity to work efficiently. We have to work efficiently. \"Is there a better department than Higher Education and Minor Irrigation to work?\"\n",
      "\n",
      "It added that the Sangh could use Pranab’s recent visit and address at the Nagpur headquarters “for future politics”. “What is on their mind with this particular event will be revealed only during 2019 LS elections,” the editorial said.\n",
      "\n",
      "I re-read TR Andhyarujina’s masterpiece “The Kesavananda Bharati Case – the Untold Story of Struggle for Supremacy by Supreme Court and Parliament” (Published 2011).  To this, I have added my reading of a series of essays written by various authors and edited by Arghya Sengupta and Ritwika Sharma titled “Appointment of Judges to the Supreme Court of India – Transparency, Accountability and Independence” (Published April 2018).   The two publications contain several facts, supported by pre-published material, which were known to several senior colleagues in the legal profession.  This ought to be shared with a larger constituency.\n",
      "\n",
      "\"(Scotland) are a very dangerous side, I thought they played close to their best cricket today and we didn't,\" said Morgan.\n",
      "\n",
      "\"The SP and the BSP will perish by fighting each other. This electoral understanding is not based on issues, and any electoral understanding deprived of any issue is not long lasting,\" he told reporters.\n",
      "\n",
      "Having Yuki Bhambri in the singles would have been great but aiming for the US Open main draw is important as well. It is always a tough decision to balance and not easy to decide. For me, Asian Games is a important event since I am not playing the full calendar. I have cut down the number of tournaments and will be playing in two tournaments this season. I will be playing in Wimbledon before the Asian Games.\n",
      "\n",
      "But a middle order collapse gave non-Test nation Scotland renewed hope.\n",
      "\n",
      "You will be turning 45 in a week’s time. Are you thinking about competing at the Tokyo Olympics?\n",
      "\n",
      "At this point of my career, I have to enhance my own training to keep staying fitter, younger and stronger in terms of my game. It is important for me to keep pushing my body and fitness levels and keep learning new methods of training. That was the reason I visited Abhinav Bindra targeting Performance Centre on Saturday.\n",
      "\n",
      "Over the last 30 years in my career, I have been able to master the mental game of hard perseverance. For me, it is very important to stay at peace mentally after such a long career and able to target smaller goals. There was a reason I missed the whole clay court season. I have to maximize my performance in whatever few goals I have. At this point, it is very hard to set new goals. I try to figure new targets and achieve these goals. After you win 15-16 Grand Slams or play in 6-7 Olympics, they just become numbers for you mentally. I play because I am passionate about playing for the country and playing my tennis. I enjoy the lifestyle of it… About Tokyo Olympics, that is the big goal. But that too will come after the small goals. It is still 2018 and there is 2019 and 2020 to come.\n"
     ]
    }
   ],
   "source": [
    "## All articles related to Topic 1 (using NMF) ##\n",
    "\n",
    "print(\"-\"*40)\n",
    "print(\"All articles related to Topic 1 (using NMF)\")\n",
    "print(\"-\"*40)\n",
    "print('\\n\\n'.join('{}'.format(item) for item in nmf_topic_1_sentences))"
   ]
  },
  {
   "cell_type": "code",
   "execution_count": 25,
   "metadata": {},
   "outputs": [
    {
     "name": "stdout",
     "output_type": "stream",
     "text": [
      "----------------------------------------\n",
      "All articles related to Topic 2 (Using NMF)\n",
      "----------------------------------------\n",
      "Scotland's total was their highest at this level, surpassing their 341 for nine against fellow non-Test nation Canada at Christchurch four years ago.\n",
      "\n",
      "The International Cricket Council's decision to shrink the World Cup from 14 teams to 10 had already been heavily criticised long before Scotland and their fellow associate or non-Test nations impressed with the quality of their play in Zimbabwe.\n",
      "\n",
      "But a middle order collapse gave non-Test nation Scotland renewed hope.\n",
      "\n",
      "Scotland's first win in international cricket over England came in their first match since they were cruelly denied a place at next year's World Cup after a poor umpiring decision and rain saw them miss out in their final qualifier against the West Indies in Harare in March.\n",
      "\n",
      "As it happened: England vs Scotland | Scorecard\n",
      "\n",
      "Test skipper Joe Root was carelessly run out and England then lost Morgan and Alex Hales off successive deliveries to be 245 for five.\n",
      "\n",
      "Scotland saw captain Kyle Coetzer and Matthew Cross share a century stand after Morgan won the toss.\n",
      "\n",
      "\"(Scotland) are a very dangerous side, I thought they played close to their best cricket today and we didn't,\" said Morgan.\n",
      "\n",
      "This was an embarrassing reverse for 2019 World Cup hosts England ahead of their upcoming five-match home ODI series against Australia and a reminder of how Eoin Morgan's side have been undone in one-off games, such as last year's Champions Trophy semi-final loss to eventual winners Pakistan in Cardiff.\n",
      "\n",
      "The 29-year-old former Durham batsman went to a hundred off just 70 balls, his seventh at this level and the first by any Scotland batsman against England.\n",
      "\n",
      "But pacer Safyaan Sharif sealed Scotland's victory with seven balls to spare when he had No.11 Mark Wood plumb lbw to spark a pitch invasion by jubilant home fans.\n",
      "\n",
      "I think the important part is to put the best best team for the country in Davis Cup. Records and individual performance are the byproducts of such a longevity in this sport. World record happened not because of an year or two, it came after three decades. And Davis Cup is about putting the best team forward for the country. I am able to help the team to win like in China, where me and Rohan won the doubles after being 0-2 down in the tie. Playing with Rohan was great fun . And that too in the new format where you play the matches in two day as compared to earlier format of three days.\n",
      "\n",
      "Despite making a mammoth 371 for five, thanks mainly to Calum MacLeod's brilliant 140 not out, Scotland were in danger of defeat as England's Jonny Bairstow took advantage of a good pitch and short boundaries at the Grange to make 105.\n",
      "\n",
      "Last year, you were dropped from the Davis Cup tie against Uzbekistan. You returned for China tie and notched up a record win. How was it to comeback after what happened and how do you see the changes in the Davis Cup format?\n",
      "\n",
      "Asked if Scotland had sent a message to the ICC with this win, Sharif replied: \"I'm not going to say anything -- they've seen it all today.\"\n",
      "\n",
      "Jason Roy and Bairstow launched England's reply with a century stand but Bairstow holed out when he might have won the game.\n",
      "\n",
      "Bairstow set a record by becoming the first England batsman to make three ODI centuries in successive innings but it was not enough to deny the Scots.\n",
      "\n",
      "England rallied again, thanks to a 71-run eighth-wicket partnership between Moeen Ali and Liam Plunkett.\n",
      "\n",
      "\"I'm lost for words, I don't know what to say,\" Sharif told Sky Sports. \"We've been waiting for this for so long. England are a brilliant side but scoring 371 against them means the world.\"\n",
      "\n",
      "You will compete in the Asian Games this year after missing the last two editions. Your thoughts on returning?\n",
      "\n",
      "The last one I played was in Doha in 2006 and this year’s Asian Games in Indonesia will be a new challenge. We have a full strength team and as we get closer to the Games, we will work on the combinations and pairings. We have got youngsters like Prajnesh Gunneswaran and Ramkumar Ramanathan apart from Rohan (Bopanna) and Divij (Sharan). Among the girls, Ankita Raina and Prarthna Thombare have shown good form in the recent months.\n",
      "\n",
      "Despite the defeat, Thiem remained gracious in defeat and hailed Nadal’s herculean effort of winning 11 titles at the same grand slam. Thiem recalled the moment when Nadal had won his first title in Paris. “I still remember when you won here the first time in 2005. I was 11-years-old, watching it on TV and honestly I never expected that one day I would play the finals here so I am still really happy. Thank you to all of you. I love the tournament. I hope soon I get another chance soon, maybe against you (Nadal),” said Thiem while earning a gracious applause.\n",
      "\n",
      "\"It's not the end of the world for us, it was a really good run out and good to have a practice coming into the series against Australia,\" he added ahead of a five-match campaign that gets underway at The Oval on Wednesday.\n",
      "\n",
      "Over the last 30 years in my career, I have been able to master the mental game of hard perseverance. For me, it is very important to stay at peace mentally after such a long career and able to target smaller goals. There was a reason I missed the whole clay court season. I have to maximize my performance in whatever few goals I have. At this point, it is very hard to set new goals. I try to figure new targets and achieve these goals. After you win 15-16 Grand Slams or play in 6-7 Olympics, they just become numbers for you mentally. I play because I am passionate about playing for the country and playing my tennis. I enjoy the lifestyle of it… About Tokyo Olympics, that is the big goal. But that too will come after the small goals. It is still 2018 and there is 2019 and 2020 to come.\n",
      "\n",
      "At this point of my career, I have to enhance my own training to keep staying fitter, younger and stronger in terms of my game. It is important for me to keep pushing my body and fitness levels and keep learning new methods of training. That was the reason I visited Abhinav Bindra targeting Performance Centre on Saturday.\n",
      "\n",
      "In an interview with The Indian Express, Leander Paes talks about his inclusion in the squad for the Asian Games, missing the clay season and his hopes for the Tokyo Olympics. Excerpts:\n",
      "\n",
      "But they lost both openers in quick succession to be 107 for two.\n",
      "\n",
      "The number one ranked player in the world went 2-0 ahead in the second set as he wore Thiem down following a lung-burning rally, leaving the Austrian screaming in frustration. Thiem looked to threaten in the seventh game after bringing up game point but Nadal broke his pace with a drop shot and finished it off with a passing shot, holding for 5-2. He took the second set when Thiem sent a backhand long.\n",
      "\n",
      "Nadal began each set in similar fashion – by breaking Thiem – and that meant the Austrian would continue to play catch up throughout. He did get the break back in the first set but that was all that Thiem had to rejoice in during the two hours and 42 minutes he spent on court. As both continued to trade blows, the first set remained on serve till 5-4. Thiem grew nervous at that stage to shank four consecutive points and a forehand going long handed Nadal the opening set. The signs already pointed at trouble for Thiem as Nadal boasts of a record of 112-0 after winning the first set in best of five set matches.\n",
      "\n",
      "The number one ranked player in the world went 2-0 ahead in the second set as he wore Thiem down following a lung-burning rally, leaving the Austrian screaming in frustration. Thiem looked to threaten in the seventh game after bringing up game point but Nadal broke his pace with a drop shot and finished it off with a passing shot, holding for 5-2. He took the second set when Thiem sent a backhand long.\n",
      "\n",
      "MacLeod, however, ensured a promising start was not wasted and together with George Munsey (55) put on 107 for the fourth wicket.\n"
     ]
    }
   ],
   "source": [
    "## All articles related to Topic 2 (using NMF) ##\n",
    "\n",
    "print(\"-\"*40)\n",
    "print(\"All articles related to Topic 2 (Using NMF)\")\n",
    "print(\"-\"*40)\n",
    "print('\\n\\n'.join('{}'.format(item) for item in nmf_topic_2_sentences))"
   ]
  },
  {
   "cell_type": "code",
   "execution_count": 26,
   "metadata": {},
   "outputs": [
    {
     "name": "stdout",
     "output_type": "stream",
     "text": [
      "----------------------------------------\n",
      "Summary of Topic 1 (Using NMF)\n",
      "----------------------------------------\n",
      "\n",
      "The JD(S) leader became the chief minister after the Congress offered support to the party keep out the BJP. In the 225-member Assembly, including one nominated, the Congress has 78 MLAs, the JDS has 36 and the BJP 104, with three others.\n",
      "Kumaraswamy retained the key Finance department, as also Energy with him while giving Home to his deputy G Parameshwara of the Congress. The chief minister had inducted 25 new ministers on June 6, including those from his party JD(S), Congress, BSP, and the fledgling KPJP.\n",
      "Bengaluru: \"What have I studied? I'm working as the chief minister\" - this was Karnataka Chief Minister H D Kumaraswamy response as he dismissed questions on allocating Higher Education portfolio to a minister who has studied till class 8.\n"
     ]
    }
   ],
   "source": [
    "## Summary of Topic 1 (Using NMF) ##\n",
    "\n",
    "print(\"-\"*40)\n",
    "print(\"Summary of Topic 1 (Using NMF)\")\n",
    "print(\"-\"*40)\n",
    "print()\n",
    "print('\\n'.join('{}'.format(item) for item in nmf_topic_1_sentences[:3]))"
   ]
  },
  {
   "cell_type": "code",
   "execution_count": 27,
   "metadata": {},
   "outputs": [
    {
     "name": "stdout",
     "output_type": "stream",
     "text": [
      "----------------------------------------\n",
      "Summary of Topic 2 (Using NMF)\n",
      "----------------------------------------\n",
      "\n",
      "Scotland's total was their highest at this level, surpassing their 341 for nine against fellow non-Test nation Canada at Christchurch four years ago.\n",
      "The International Cricket Council's decision to shrink the World Cup from 14 teams to 10 had already been heavily criticised long before Scotland and their fellow associate or non-Test nations impressed with the quality of their play in Zimbabwe.\n",
      "But a middle order collapse gave non-Test nation Scotland renewed hope.\n"
     ]
    }
   ],
   "source": [
    "## Summary of Topic 2 (Using NMF) ##\n",
    "\n",
    "print(\"-\"*40)\n",
    "print(\"Summary of Topic 2 (Using NMF)\")\n",
    "print(\"-\"*40)\n",
    "print()\n",
    "print('\\n'.join('{}'.format(item) for item in nmf_topic_2_sentences[:3]))"
   ]
  },
  {
   "cell_type": "code",
   "execution_count": null,
   "metadata": {},
   "outputs": [],
   "source": []
  }
 ],
 "metadata": {
  "kernelspec": {
   "display_name": "Python 3",
   "language": "python",
   "name": "python3"
  },
  "language_info": {
   "codemirror_mode": {
    "name": "ipython",
    "version": 3
   },
   "file_extension": ".py",
   "mimetype": "text/x-python",
   "name": "python",
   "nbconvert_exporter": "python",
   "pygments_lexer": "ipython3",
   "version": "3.6.4"
  }
 },
 "nbformat": 4,
 "nbformat_minor": 2
}
